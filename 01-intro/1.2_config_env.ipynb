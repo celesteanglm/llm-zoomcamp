{
 "cells": [
  {
   "cell_type": "code",
   "execution_count": 1,
   "id": "6af1487c-dff0-4c35-9b68-31c1a6ff5969",
   "metadata": {},
   "outputs": [],
   "source": [
    "import openai"
   ]
  },
  {
   "cell_type": "code",
   "execution_count": 2,
   "id": "90f0dc2f-9de0-4d28-bb43-c5e64a40dfad",
   "metadata": {},
   "outputs": [],
   "source": [
    "from openai import OpenAI"
   ]
  },
  {
   "cell_type": "code",
   "execution_count": 4,
   "id": "68344dbc-d1ae-405e-8974-0798e162e11c",
   "metadata": {},
   "outputs": [],
   "source": [
    "client = OpenAI()"
   ]
  },
  {
   "cell_type": "code",
   "execution_count": 5,
   "id": "c4af327d-d6df-4dac-9c32-2d1324365c1a",
   "metadata": {},
   "outputs": [],
   "source": [
    "import os"
   ]
  },
  {
   "cell_type": "code",
   "execution_count": 7,
   "id": "eb6a3a86-b6a7-4adf-ba68-66dd23f38907",
   "metadata": {},
   "outputs": [],
   "source": [
    "response = client.chat.completions.create(\n",
    "    model='gpt-4o',\n",
    "    messages=[{'role': 'user', 'content': 'is it too late to join the course'}]\n",
    ")"
   ]
  },
  {
   "cell_type": "code",
   "execution_count": 10,
   "id": "89c5708c-2c7b-4c4f-8144-2df009d891bf",
   "metadata": {},
   "outputs": [
    {
     "data": {
      "text/plain": [
       "1"
      ]
     },
     "execution_count": 10,
     "metadata": {},
     "output_type": "execute_result"
    }
   ],
   "source": [
    "len(response.choices)"
   ]
  },
  {
   "cell_type": "code",
   "execution_count": 11,
   "id": "64004fe0-5097-4a6f-b529-e977bbe664e3",
   "metadata": {},
   "outputs": [
    {
     "data": {
      "text/plain": [
       "\"It's difficult to say without more context. Whether you can still join a course depends on several factors, such as the start date of the course, the policies of the institution offering it, and the availability of spots. Here are a few steps you can take to find out:\\n\\n1. **Check the Course Schedule**: Look up the course schedule to see if the class has already started and when the course registration deadline is.\\n\\n2. **Contact the Institution**: Reach out to the admissions office, registrar, or the specific department offering the course. They can provide you with the most accurate information about enrollment deadlines and possibilities for late registration.\\n\\n3. **Speak to the Instructor**: If possible, contact the course instructor directly. Sometimes instructors can make exceptions or provide options for catching up if you’ve missed the initial classes.\\n\\n4. **Review the Course Syllabus**: If you have access to the syllabus, check to see how much content has been covered and whether it's feasible for you to catch up.\\n\\n5. **Consider Online or Self-paced Options**: Some institutions offer online or self-paced versions of courses, which may have more flexible start dates.\\n\\nAct quickly, as spaces in popular courses can fill up fast and deadlines are often strictly enforced. Good luck!\""
      ]
     },
     "execution_count": 11,
     "metadata": {},
     "output_type": "execute_result"
    }
   ],
   "source": [
    "response.choices[0].message.content"
   ]
  },
  {
   "cell_type": "code",
   "execution_count": null,
   "id": "7858698d-9b00-4b78-9aa4-be2ffc799ec4",
   "metadata": {},
   "outputs": [],
   "source": []
  }
 ],
 "metadata": {
  "kernelspec": {
   "display_name": "Python 3 (ipykernel)",
   "language": "python",
   "name": "python3"
  },
  "language_info": {
   "codemirror_mode": {
    "name": "ipython",
    "version": 3
   },
   "file_extension": ".py",
   "mimetype": "text/x-python",
   "name": "python",
   "nbconvert_exporter": "python",
   "pygments_lexer": "ipython3",
   "version": "3.10.13"
  }
 },
 "nbformat": 4,
 "nbformat_minor": 5
}
